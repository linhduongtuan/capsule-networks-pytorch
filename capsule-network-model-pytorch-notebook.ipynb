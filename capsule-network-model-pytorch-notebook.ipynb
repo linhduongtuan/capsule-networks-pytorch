{
 "cells": [
  {
   "cell_type": "code",
   "execution_count": 1,
   "metadata": {
    "slideshow": {
     "slide_type": "-"
    }
   },
   "outputs": [],
   "source": [
    "import torch.nn as nn\n",
    "import torch.nn.functional as F\n",
    "import torch\n",
    "from torch.autograd import Variable\n",
    "from torchvision import datasets, transforms\n",
    "import numpy as np\n",
    "from tqdm import tqdm\n",
    "from matplotlib import pyplot as plt\n",
    "import random\n",
    "import pickle\n",
    "import csv\n",
    "\n",
    "%matplotlib inline"
   ]
  },
  {
   "cell_type": "code",
   "execution_count": 2,
   "metadata": {},
   "outputs": [
    {
     "data": {
      "text/plain": [
       "'0.3.1'"
      ]
     },
     "execution_count": 2,
     "metadata": {},
     "output_type": "execute_result"
    }
   ],
   "source": [
    "torch.__version__"
   ]
  },
  {
   "cell_type": "markdown",
   "metadata": {},
   "source": [
    "# Model definition"
   ]
  },
  {
   "cell_type": "code",
   "execution_count": 3,
   "metadata": {},
   "outputs": [],
   "source": [
    "# Model parameters\n",
    "\n",
    "image_dim_size = 28\n",
    "\n",
    "# Conv layer\n",
    "cl_filter_size = 9\n",
    "cl_num_filters = 256\n",
    "cl_input_channels = 1\n",
    "cl_stride = 1\n",
    "cl_output_dim = int((image_dim_size - cl_filter_size + 1) / cl_stride) # added for pedagogical purpose\n",
    "\n",
    "# Primary caps\n",
    "\n",
    "# Primary Caps are equivalent to runnning 256 conv filters (pc_caps_dim x pc_num_caps_channels) \n",
    "# of size 9x9 (pc_filter_size), with stride 2, each one with 256 input channels (pc_input_channels). \n",
    "# This leads to a 6x6x256 output volume.\n",
    "# Then each capsule comes from stacking 8 (pc_capas_dim) of these consecutive filters \n",
    "# on each pixel location. Hence, we will end with 6 x 6 x pc_num_caps_channels \n",
    "# capsules of dimension 8.\n",
    "\n",
    "pc_input_size = cl_output_dim # added for pedagogical purpose\n",
    "pc_filter_size = 9\n",
    "pc_stride = 2\n",
    "pc_caps_dim = 8\n",
    "pc_input_channels = cl_num_filters # added for pedagogical purpose\n",
    "pc_num_caps_channels = 32 \n",
    "pc_output_dim = int((pc_input_size - pc_filter_size + 1) / pc_stride) # added for pedagogical purpose\n",
    "\n",
    "# Digit caps\n",
    "dc_num_caps = 10\n",
    "dc_caps_dim = 16\n",
    "\n",
    "# Routing parameters\n",
    "iterations = 3\n",
    "\n",
    "# Regularisation\n",
    "reconst_loss_scale = 0.0005 * image_dim_size**2"
   ]
  },
  {
   "cell_type": "code",
   "execution_count": 4,
   "metadata": {},
   "outputs": [],
   "source": [
    "# Capsule model\n",
    "class CapsModel(nn.Module):\n",
    "    def __init__(self, \n",
    "                 cl_input_channels, \n",
    "                 cl_num_filters, \n",
    "                 cl_filter_size, \n",
    "                 cl_stride,\n",
    "                 pc_input_channels,\n",
    "                 pc_num_caps_channels,\n",
    "                 pc_caps_dim,\n",
    "                 pc_filter_size,\n",
    "                 pc_stride,\n",
    "                 image_dim_size,\n",
    "                 dc_num_caps,\n",
    "                 dc_caps_dim,\n",
    "                 iterations,\n",
    "                 reconst_loss_scale):\n",
    "        \n",
    "        super(CapsModel, self).__init__()\n",
    "        \n",
    "        self.iterations = iterations\n",
    "        self.pc_caps_dim = pc_caps_dim \n",
    "        self.reconst_loss_scale = reconst_loss_scale\n",
    "        \n",
    "        self.conv_layer_1 = nn.Conv2d(in_channels=cl_input_channels,\n",
    "                              out_channels=cl_num_filters,\n",
    "                              kernel_size=cl_filter_size, \n",
    "                              stride=cl_stride)\n",
    "        \n",
    "        self.conv_layer_2 = nn.Conv2d(in_channels=pc_input_channels,\n",
    "                                     out_channels=pc_num_caps_channels * pc_caps_dim,\n",
    "                                     kernel_size=pc_filter_size,\n",
    "                                     stride=pc_stride)\n",
    "        \n",
    "        cl_output_dim = int((image_dim_size - cl_filter_size + 1) / cl_stride)\n",
    "        pc_output_dim = int((cl_output_dim - pc_filter_size + 1) / pc_stride)\n",
    "        self.pc_num_caps = pc_output_dim*pc_output_dim*pc_num_caps_channels\n",
    "        self.W = nn.Parameter(0.01 * torch.randn(1,\n",
    "                                            self.pc_num_caps, # We have one weight matrix for each pair of capsules in\n",
    "                                            dc_num_caps,      # primary capsules layer and digit caps layer.\n",
    "                                            dc_caps_dim,      # Each such matrix has a dimension of \n",
    "                                            pc_caps_dim))\n",
    "        \n",
    "        self.reconst_loss = nn.MSELoss()\n",
    "        \n",
    "    def forward(self, x):\n",
    "        c = F.relu(self.conv_layer_1(x))\n",
    "        u = self.conv_layer_2(c)\n",
    "        u_sliced = self.squash( u.permute(0,2,3,1).contiguous()\\\n",
    "                               .view(c.shape[0], -1, self.pc_caps_dim)).unsqueeze(-1).unsqueeze(2)\n",
    "        u_hat = torch.matmul(self.W, u_sliced).squeeze(4)  # Removing last dummy dimension, not needed anymore\n",
    "        v = self.routing(u_hat).squeeze(1)\n",
    "        return v\n",
    "    \n",
    "    def routing(self, u_hat):\n",
    "        b = torch.zeros_like( u_hat )  #b_ij parameters have the same dimension as u_hat\n",
    "        u_hat_routing = u_hat.detach()\n",
    "        for i in range(self.iterations):\n",
    "            c = F.softmax(b, dim=2)   \n",
    "            if i==(self.iterations-1):\n",
    "                s = (c*u_hat).sum(1, keepdim=True)\n",
    "            else:\n",
    "                s = (c*u_hat_routing).sum(1, keepdim=True)\n",
    "            v = self.squash(s)\n",
    "            if i < self.iterations - 1: b = (b + (u_hat_routing*v).sum(3, keepdim=True))\n",
    "        return v\n",
    "            \n",
    "    def squash(self, s):\n",
    "        s_norm = s.norm(dim=-1, keepdim=True)\n",
    "        v = s_norm / (1. + s_norm**2) * s\n",
    "        return v    \n",
    "    \n",
    "    # Defining loss function\n",
    "    def loss(self, T, v, x_true, x_reconstructed, lambda_param=0.5, m_plus=0.9, m_minus=0.1):     \n",
    "        v_norm = v.norm(dim=2, keepdim=False)\n",
    "        return (T*F.relu(m_plus - v_norm)**2 + lambda_param * (1-T)*F.relu(v_norm - m_minus)**2).sum(1).mean() \\\n",
    "                +self.reconst_loss_scale * self.reconst_loss(x_reconstructed, x_true)"
   ]
  },
  {
   "cell_type": "code",
   "execution_count": 5,
   "metadata": {},
   "outputs": [],
   "source": [
    "class Decoder(nn.Module):\n",
    "    def __init__(self, dc_caps_dim, dc_num_caps, image_dim_size):\n",
    "        super(Decoder, self).__init__()\n",
    "        self.dc_num_caps = dc_num_caps\n",
    "        self.network = nn.Sequential(\n",
    "            nn.Linear(dc_caps_dim * dc_num_caps, 512),\n",
    "            nn.ReLU(inplace=True),\n",
    "            nn.Linear(512, 1024),\n",
    "            nn.ReLU(inplace=True),\n",
    "            nn.Linear(1024, image_dim_size**2),\n",
    "            nn.Sigmoid()\n",
    "        )\n",
    "\n",
    "        \n",
    "    def forward(self, v, y_ohe):       \n",
    "        return self.network( (y_ohe[:,:,None] * v).view(v.shape[0], -1) )"
   ]
  },
  {
   "cell_type": "code",
   "execution_count": 6,
   "metadata": {},
   "outputs": [],
   "source": [
    "model = CapsModel(cl_input_channels, \n",
    "                 cl_num_filters, \n",
    "                 cl_filter_size, \n",
    "                 cl_stride,\n",
    "                 pc_input_channels,\n",
    "                 pc_num_caps_channels,\n",
    "                 pc_caps_dim,\n",
    "                 pc_filter_size,\n",
    "                 pc_stride,\n",
    "                 image_dim_size,\n",
    "                 dc_num_caps,\n",
    "                 dc_caps_dim, \n",
    "                 iterations,\n",
    "                 reconst_loss_scale).cuda()\n",
    "\n",
    "decoder = Decoder(dc_caps_dim, dc_num_caps, image_dim_size,).cuda()"
   ]
  },
  {
   "cell_type": "code",
   "execution_count": 8,
   "metadata": {},
   "outputs": [
    {
     "name": "stdout",
     "output_type": "stream",
     "text": [
      "CapsModel(\n",
      "  (conv_layer_1): Conv2d(1, 256, kernel_size=(9, 9), stride=(1, 1))\n",
      "  (conv_layer_2): Conv2d(256, 256, kernel_size=(9, 9), stride=(2, 2))\n",
      "  (reconst_loss): MSELoss(\n",
      "  )\n",
      ")\n",
      "Decoder(\n",
      "  (network): Sequential(\n",
      "    (0): Linear(in_features=160, out_features=512, bias=True)\n",
      "    (1): ReLU(inplace)\n",
      "    (2): Linear(in_features=512, out_features=1024, bias=True)\n",
      "    (3): ReLU(inplace)\n",
      "    (4): Linear(in_features=1024, out_features=784, bias=True)\n",
      "    (5): Sigmoid()\n",
      "  )\n",
      ")\n"
     ]
    }
   ],
   "source": [
    "optimiser = torch.optim.Adam(list(model.parameters()) + list(decoder.parameters()), lr=0.001)\n",
    "lr_decay = torch.optim.lr_scheduler.ExponentialLR(optimiser, gamma=0.96**(1/2000.))\n",
    "\n",
    "print(model)\n",
    "print(decoder)"
   ]
  },
  {
   "cell_type": "code",
   "execution_count": 9,
   "metadata": {},
   "outputs": [
    {
     "data": {
      "text/plain": [
       "8215568"
      ]
     },
     "execution_count": 9,
     "metadata": {},
     "output_type": "execute_result"
    }
   ],
   "source": [
    "def count_parameters(model):\n",
    "    return sum(p.numel() for p in model.parameters() if p.requires_grad)\n",
    "\n",
    "count_parameters(model) + count_parameters(decoder)"
   ]
  },
  {
   "cell_type": "markdown",
   "metadata": {},
   "source": [
    "# Training"
   ]
  },
  {
   "cell_type": "code",
   "execution_count": 43,
   "metadata": {},
   "outputs": [],
   "source": [
    "batch_size = 128\n",
    "\n",
    "loss_train = 10     # Initialize with arbitrary high value\n",
    "epoch=0\n",
    "\n",
    "losses_train = []\n",
    "losses_val = []\n",
    "\n",
    "errors_train = []\n",
    "errors_val = []\n",
    "\n",
    "min_error = np.inf\n",
    "error_rate_batch = 1.\n",
    "\n",
    "train_sample_built = False\n",
    "\n",
    "logfile = open('log_'+version+'.csv', 'w')\n",
    "logwriter = csv.DictWriter(logfile, fieldnames=['epoch', 'train_loss', 'val_loss', 'val_error'])\n",
    "logwriter.writeheader()"
   ]
  },
  {
   "cell_type": "code",
   "execution_count": 11,
   "metadata": {},
   "outputs": [
    {
     "name": "stdout",
     "output_type": "stream",
     "text": [
      "Downloading http://yann.lecun.com/exdb/mnist/train-images-idx3-ubyte.gz\n",
      "Downloading http://yann.lecun.com/exdb/mnist/train-labels-idx1-ubyte.gz\n",
      "Downloading http://yann.lecun.com/exdb/mnist/t10k-images-idx3-ubyte.gz\n",
      "Downloading http://yann.lecun.com/exdb/mnist/t10k-labels-idx1-ubyte.gz\n",
      "Processing...\n",
      "Done!\n"
     ]
    }
   ],
   "source": [
    "def error_rate_calc(v_list, y_labels_list):\n",
    "    v = torch.cat(v_list)\n",
    "    y_labels = torch.cat(y_labels_list).cuda()\n",
    "    _, y_pred = v.norm(p=2, dim=2).max(dim=1)\n",
    "    return float( 1 - (y_pred == y_labels).float().mean() )\n",
    "\n",
    "def load_mnist(path='./data', download=True, batch_size=100, shift_pixels=2):\n",
    "    \"\"\"\n",
    "    Construct dataloaders for training and test data. Data augmentation is also done here.\n",
    "    :param path: file path of the dataset\n",
    "    :param download: whether to download the original data\n",
    "    :param batch_size: batch size\n",
    "    :param shift_pixels: maximum number of pixels to shift in each direction\n",
    "    :return: train_loader, test_loader\n",
    "    \"\"\"\n",
    "    kwargs = {'num_workers': 1, 'pin_memory': True}\n",
    "\n",
    "    train_loader = torch.utils.data.DataLoader(\n",
    "        datasets.MNIST(path, train=True, download=download,\n",
    "                       transform=transforms.Compose([transforms.RandomCrop(size=28, padding=shift_pixels),\n",
    "                                                     transforms.ToTensor()])),\n",
    "        batch_size=batch_size, shuffle=True, **kwargs)\n",
    "    \n",
    "    \n",
    "    test_loader = torch.utils.data.DataLoader(\n",
    "        datasets.MNIST(path, train=False, download=download,\n",
    "                       transform=transforms.ToTensor()),\n",
    "        batch_size=batch_size, shuffle=True, **kwargs)\n",
    "\n",
    "    return train_loader, test_loader\n",
    "\n",
    "train_loader, test_loader = load_mnist()"
   ]
  },
  {
   "cell_type": "code",
   "execution_count": null,
   "metadata": {
    "scrolled": true
   },
   "outputs": [
    {
     "name": "stderr",
     "output_type": "stream",
     "text": [
      "100%|██████████| 600/600 [03:30<00:00,  2.85it/s, error_rate_batch=1.74e-08]\n",
      "  0%|          | 0/600 [00:00<?, ?it/s]"
     ]
    },
    {
     "name": "stdout",
     "output_type": "stream",
     "text": [
      "104 0.0028000413991200426 0.0061471401806920765 0.0037999749183654785 0.003099977970123291 0.000272143549523252\n"
     ]
    },
    {
     "name": "stderr",
     "output_type": "stream",
     "text": [
      "100%|██████████| 600/600 [03:30<00:00,  2.86it/s, error_rate_batch=3.38e-06]\n",
      "  0%|          | 0/600 [00:00<?, ?it/s]"
     ]
    },
    {
     "name": "stdout",
     "output_type": "stream",
     "text": [
      "105 0.0027929642136829596 0.006037308797240257 0.0031999945640563965 0.003099977970123291 0.0002688310416542582\n"
     ]
    },
    {
     "name": "stderr",
     "output_type": "stream",
     "text": [
      "100%|██████████| 600/600 [03:30<00:00,  2.85it/s, error_rate_batch=8.73e-06]\n",
      "  0%|          | 0/600 [00:00<?, ?it/s]"
     ]
    },
    {
     "name": "stdout",
     "output_type": "stream",
     "text": [
      "106 0.002793144050131862 0.00596951135667041 0.0034000277519226074 0.003099977970123291 0.00026555885334603066\n"
     ]
    },
    {
     "name": "stderr",
     "output_type": "stream",
     "text": [
      "100%|██████████| 600/600 [03:30<00:00,  2.83it/s, error_rate_batch=7.78e-07]\n",
      "  0%|          | 0/600 [00:00<?, ?it/s]"
     ]
    },
    {
     "name": "stdout",
     "output_type": "stream",
     "text": [
      "107 0.0027723364140062284 0.005925637022592127 0.0034000277519226074 0.003099977970123291 0.0002623264938323448\n"
     ]
    },
    {
     "name": "stderr",
     "output_type": "stream",
     "text": [
      " 79%|███████▊  | 472/600 [02:45<00:44,  2.85it/s, error_rate_batch=0.000109]"
     ]
    }
   ],
   "source": [
    "# Training loop\n",
    "while True:\n",
    "    loss_train = 0\n",
    "    with tqdm(total=len(train_loader)) as pbar:\n",
    "        for x_train, y_train in train_loader:\n",
    "          \n",
    "            # Model training\n",
    "            x_train = Variable(x_train.cuda())\n",
    "            y_train_ohe = Variable( torch.eye(10).index(y_train).cuda() )\n",
    "            \n",
    "            v = model(x_train) \n",
    "            \n",
    "            # Calculate loss and do backward step\n",
    "            loss = model.loss(y_train_ohe, v, x_train, decoder(v, y_train_ohe ) ) \n",
    "            model.zero_grad()\n",
    "            decoder.zero_grad()\n",
    "            loss.backward()\n",
    "            optimiser.step()  \n",
    "            \n",
    "            # Calculates error rate on batch\n",
    "            _, y_pred_batch = v.norm(p=2, dim=2).max(dim=1)\n",
    "            error_rate_batch = error_rate_batch*0.9 + float( 1 - (y_pred_batch.data == y_train.cuda()).float().mean() ) * 0.1\n",
    "            \n",
    "            # Performance reporting \n",
    "            loss_train += loss.data[0] \n",
    "            pbar.set_postfix(error_rate_batch=error_rate_batch)\n",
    "            pbar.update(1)\n",
    "            lr_decay.step()\n",
    "    \n",
    "    loss_train /= len(train_loader)\n",
    "    \n",
    "    # Calculates error rate and loss funciton on validation set\n",
    "    v_val_list = []\n",
    "    loss_test_list = []\n",
    "    y_test_list = []\n",
    "    for x_test, y_test in test_loader:\n",
    "        x_test = Variable(x_test.cuda())\n",
    "        y_test_ohe = Variable( torch.eye(10).index(y_test).cuda() )\n",
    "        \n",
    "        v_val_batch = model(x_test)\n",
    "        v_val_list.append(v_val_batch.data)\n",
    "        loss_test_list.append( model.loss(y_test_ohe, v_val_batch, x_test, decoder(v_val_batch, y_test_ohe)).data[0])\n",
    "        y_test_list.append(y_test)\n",
    "    \n",
    "    # Error rate: \n",
    "    v_val = torch.cat(v_val_list)\n",
    "    y_test_labels = torch.cat(y_test_list).cuda()\n",
    "    _, y_pred_test = v_val.norm(p=2, dim=2).max(dim=1)\n",
    "    error_rate = float( 1 - (y_pred_test == y_test_labels).float().mean() )\n",
    "    \n",
    "    # Calculates loss function on validation set\n",
    "    loss_val = np.mean(loss_test_list)\n",
    " \n",
    "    # Stores loss values for train and validation\n",
    "    losses_train.append(loss_train)\n",
    "    errors_train.append(error_rate_batch)\n",
    "    losses_val.append(loss_val)\n",
    "    errors_val.append(error_rate)\n",
    "    \n",
    "    # Stores model\n",
    "    if error_rate<min_error: \n",
    "        torch.save(model.state_dict(), 'model_'+version+'.pickle')\n",
    "        torch.save(decoder.state_dict(), 'decode_'+version+'.pickle')\n",
    "        min_error = error_rate\n",
    "        \n",
    "    # Print and log some results\n",
    "    print(epoch, loss_train, loss_val, error_rate, min_error, lr_decay.get_lr()[0])\n",
    "    logwriter.writerow(dict(epoch=epoch, train_loss=loss_train,\n",
    "                                val_loss=loss_val, val_error=error_rate))\n",
    "    \n",
    "    epoch += 1"
   ]
  },
  {
   "cell_type": "code",
   "execution_count": 66,
   "metadata": {},
   "outputs": [
    {
     "data": {
      "text/plain": [
       "<matplotlib.legend.Legend at 0x7f407f2afda0>"
      ]
     },
     "execution_count": 66,
     "metadata": {},
     "output_type": "execute_result"
    },
    {
     "data": {
      "image/png": "[encoded data removed]",
      "text/plain": [
       "<matplotlib.figure.Figure at 0x7f407da67c18>"
      ]
     },
     "metadata": {},
     "output_type": "display_data"
    }
   ],
   "source": [
    "plt.figure(figsize=(10,7))\n",
    "plt.plot(errors_val, label='Error rate test')\n",
    "plt.plot(errors_train, label='Error rate train')\n",
    "plt.plot(losses_val, label='Loss test')\n",
    "plt.plot(losses_train, label='Loss train')\n",
    "plt.ylabel('Error rate / Loss')\n",
    "plt.xlabel('Epoch')\n",
    "plt.ylim((0,0.03))\n",
    "\n",
    "plt.legend()"
   ]
  },
  {
   "cell_type": "code",
   "execution_count": 52,
   "metadata": {},
   "outputs": [
    {
     "data": {
      "text/plain": [
       "0.00279998779296875"
      ]
     },
     "execution_count": 52,
     "metadata": {},
     "output_type": "execute_result"
    }
   ],
   "source": [
    "# Best performance in test set:\n",
    "min(errors_val)"
   ]
  }
 ],
 "metadata": {
  "kernelspec": {
   "display_name": "Python 3",
   "language": "python",
   "name": "python3"
  },
  "language_info": {
   "codemirror_mode": {
    "name": "ipython",
    "version": 3
   },
   "file_extension": ".py",
   "mimetype": "text/x-python",
   "name": "python",
   "nbconvert_exporter": "python",
   "pygments_lexer": "ipython3",
   "version": "3.5.2"
  }
 },
 "nbformat": 4,
 "nbformat_minor": 2
}
